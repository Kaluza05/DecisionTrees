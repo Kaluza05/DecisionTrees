{
 "cells": [
  {
   "cell_type": "code",
   "execution_count": 250,
   "id": "398dfe67",
   "metadata": {},
   "outputs": [],
   "source": [
    "from random import choice, randint\n",
    "import pandas as pd\n",
    "import numpy as np"
   ]
  },
  {
   "cell_type": "code",
   "execution_count": 252,
   "id": "0827cd60-5a58-4440-8c1d-c1bc78cc66ae",
   "metadata": {},
   "outputs": [],
   "source": [
    "data = pd.read_csv(\"personality_dataset.csv\")"
   ]
  },
  {
   "cell_type": "code",
   "execution_count": 254,
   "id": "1a9d796f-7b43-456f-963d-352a1418f10a",
   "metadata": {},
   "outputs": [
    {
     "name": "stdout",
     "output_type": "stream",
     "text": [
      "   Time_spent_Alone Stage_fear  Social_event_attendance  Going_outside  \\\n",
      "0               4.0         No                      4.0            6.0   \n",
      "1               9.0        Yes                      0.0            0.0   \n",
      "2               9.0        Yes                      1.0            2.0   \n",
      "3               0.0         No                      6.0            7.0   \n",
      "4               3.0         No                      9.0            4.0   \n",
      "\n",
      "  Drained_after_socializing  Friends_circle_size  Post_frequency Personality  \n",
      "0                        No                 13.0             5.0   Extrovert  \n",
      "1                       Yes                  0.0             3.0   Introvert  \n",
      "2                       Yes                  5.0             2.0   Introvert  \n",
      "3                        No                 14.0             8.0   Extrovert  \n",
      "4                        No                  8.0             5.0   Extrovert  \n"
     ]
    }
   ],
   "source": [
    "print(data.head())"
   ]
  },
  {
   "cell_type": "code",
   "execution_count": 256,
   "id": "e67c54ff-36a9-4744-9963-9b8eb35ee4cd",
   "metadata": {},
   "outputs": [
    {
     "name": "stderr",
     "output_type": "stream",
     "text": [
      "C:\\Users\\kkalu\\AppData\\Local\\Temp\\ipykernel_13004\\1735129171.py:1: FutureWarning: Downcasting behavior in `replace` is deprecated and will be removed in a future version. To retain the old behavior, explicitly call `result.infer_objects(copy=False)`. To opt-in to the future behavior, set `pd.set_option('future.no_silent_downcasting', True)`\n",
      "  data = data.replace({\"Yes\":1,\"No\":0,\"Extrovert\":1,\"Introvert\":0})\n"
     ]
    }
   ],
   "source": [
    "data = data.replace({\"Yes\":1,\"No\":0,\"Extrovert\":1,\"Introvert\":0})"
   ]
  },
  {
   "cell_type": "code",
   "execution_count": 258,
   "id": "e6da6988-4542-4eff-abd0-71cababd8acc",
   "metadata": {},
   "outputs": [],
   "source": [
    "binary = [\"Stage_fear\",\"Drained_after_socializing\"]\n",
    "cont = ['Time_spent_Alone', 'Social_event_attendance',\n",
    "       'Going_outside', 'Friends_circle_size',\n",
    "       'Post_frequency', 'Personality']"
   ]
  },
  {
   "cell_type": "code",
   "execution_count": 260,
   "id": "ed325c3e-1068-4157-a177-1047d4952271",
   "metadata": {},
   "outputs": [],
   "source": [
    "data[cont] = data[cont].fillna(data.mean())\n",
    "data[binary] = data[binary].fillna(0)"
   ]
  },
  {
   "cell_type": "code",
   "execution_count": 262,
   "id": "c6293775",
   "metadata": {},
   "outputs": [],
   "source": [
    "data2 = {\n",
    "    \"age\": [21, 25, 32, 34, 47, 50, 51, 54, 57, 60, 62, 65, 67, 71, 74],\n",
    "    \"owns_house\": [0, 1, 0, 1, 1, 0, 1, 0, 0, 0, 0, 1, 0, 1, 1],\n",
    "    \"married\": [0, 0, 0, 1, 0, 1, 1, 0, 1, 0, 1, 1, 0, 0, 1],\n",
    "    \"purchased\": [0, 0, 1, 1, 1, 1, 1, 0, 0, 0, 1, 1, 0, 0, 1],\n",
    "}\n",
    "\n",
    "test2 = pd.DataFrame.from_dict(data2)"
   ]
  },
  {
   "cell_type": "code",
   "execution_count": 264,
   "id": "49bde469",
   "metadata": {},
   "outputs": [],
   "source": [
    "class Tree:\n",
    "    def __init__(self, split: dict = None, data_left = None, data_right = None):\n",
    "        self.node  = split\n",
    "        self.left  = data_left  \n",
    "        self.right = data_right \n",
    "    def __repr__(self):\n",
    "        def print_tree(tree,ident = \"\\t\"):\n",
    "            if isinstance(tree,Tree):\n",
    "                return f'''\n",
    "                Node : {tree.node}\\n{ident}\n",
    "                Leaf 1 :\\n{print_tree(tree.left,2*ident)}\\n{ident}\n",
    "                Leaf 2 :\\n{print_tree(tree.right,2*ident)}'''\n",
    "                \n",
    "            if isinstance(tree, pd.DataFrame):\n",
    "                if tree.empty: return \"\"\n",
    "                return tree.to_string()\n",
    "            if tree == None: return \"\"\n",
    "            else: return str(tree)\n",
    "                \n",
    "        return f'''\n",
    "            Node : {repr(self.node)}\\n\n",
    "            Leaf 1 :\\n\\t{print_tree(self.left)}\\n\n",
    "            Leaf 2 :\\n\\t{print_tree(self.right)}'''"
   ]
  },
  {
   "cell_type": "code",
   "execution_count": 544,
   "id": "d6e97266",
   "metadata": {},
   "outputs": [],
   "source": [
    "class DecisionTree:\n",
    "    def __init__(self, dataset : pd.DataFrame, columns : list[int] = None)-> None:\n",
    "        self.data       = dataset if columns == None else dataset.iloc[:,columns+[-1]]\n",
    "        self.pred_tree  = Tree()\n",
    "        self.raw_tree   = Tree()\n",
    "        self.split_info = {i:self.continuous_value(i) for i in self.data.columns[:-1]}\n",
    "        self.acc        = 0\n",
    "        \n",
    "    def __repr__(self)-> str:\n",
    "        return pd.DataFrame.to_string(self.data)\n",
    "    def __str__(self)-> str :\n",
    "        return pd.DataFrame.to_string(self.data)\n",
    "\n",
    "    def _pred(self, _data : pd.DataFrame):\n",
    "        pass\n",
    "    \n",
    "    def continuous_value(self, split,cont_cap : int = 5)-> bool:\n",
    "        '''return whether data is has continuous value given continuity cap. using >'''\n",
    "        values = self.data[split].unique()\n",
    "        return len(values) > cont_cap\n",
    "        \n",
    "    def _raw_to_pred(self,tree : Tree) -> Tree:\n",
    "        '''turns a tree with datasets in leafs into a tree with predictions in leafs.'''\n",
    "        if isinstance(tree,Tree):\n",
    "            return Tree(tree.node,self._raw_to_pred(tree.left),self._raw_to_pred(tree.right))\n",
    "        elif isinstance(tree, pd.DataFrame):\n",
    "            return self._pred(tree)\n",
    "\n",
    "    def _metric_for_data(self, data):\n",
    "        pass\n",
    "    \n",
    "    def choose_split(self,data : pd.DataFrame,used_splits = [],continuous : int = 5):\n",
    "        '''\n",
    "        chooses the best split for data.\n",
    "        returns split, value to split by, left split, right split\n",
    "        '''\n",
    "        if data.empty:\n",
    "            return None\n",
    "        splits = data.columns[:-1]\n",
    "        choose_from = []\n",
    "        for split in splits:\n",
    "            values = data[split].unique()\n",
    "            split_by = self._choose_category(data,split,values,used_splits, continuous)\n",
    "            if split_by == None:\n",
    "                continue\n",
    "            choose_from.append(split_by)\n",
    "        if choose_from == []: return None\n",
    "        best_split = min(choose_from, key= lambda x : x[\"metric\"])\n",
    "        return best_split\n",
    "\n",
    "        \n",
    "    def _choose_category(self,data : pd.DataFrame, split, values, used_splits = [],continuous : int = 5)-> dict:\n",
    "        '''\n",
    "        given split and list of distinct values in that split we choose which value \n",
    "        returns the best(smallest) gini index and we return that split with the value with its corresponding metric( MSE or gini index). Additionally \n",
    "        we return both splits(data = split, data != split), with continuous data splits are (data <= split, data > split).\n",
    "        '''\n",
    "        if self.continuous_value(split, continuous):\n",
    "            sorted_values = np.sort(values)\n",
    "            average_values = [(sorted_values[i]+sorted_values[i+1])/2 for i in range(len(values)-1)]\n",
    "            splits = [(i,data[data[split] <= i],data[data[split] > i]) for i in average_values if (split,i) not in used_splits]\n",
    "        else:\n",
    "            splits = [(i,data[data[split] == i],data[data[split] != i]) for i in values if (split,i) not in used_splits]\n",
    "            \n",
    "        if splits == []: return None\n",
    "        info = []\n",
    "        for i,data_left,data_right in splits:\n",
    "            metric_data_l = self._metric_for_data(data_left)\n",
    "            metric_data_r = self._metric_for_data(data_right)\n",
    "            total = metric_data_l[1] + metric_data_r[1]\n",
    "            #gini for the split is weighted average of gini's for subtrees.\n",
    "            metric_total = metric_data_l[0] * (metric_data_l[1]/total) + metric_data_r[0] * (metric_data_r[1]/total)\n",
    "            info.append({\"split\" : split, \"value\" : i,\"metric\" : metric_total,\"left\": data_left,\"right\" :data_right})\n",
    "        return min(info,key= lambda x : x[\"metric\"])\n",
    "    \n",
    "    def create_tree(self, limit : int = 1,depth_limit : int = 5,continuous_cap : int = 2)-> None:\n",
    "        '''created tree from the data, which is avalible under self.pred_tree and self.raw_tree.'''\n",
    "        def create_rec(data : pd.DataFrame, depth : int = 0 ,used_splits : list = [] ):\n",
    "            if data.empty: return None\n",
    "            if depth > depth_limit or data.empty:\n",
    "                return data\n",
    "            elif len(data) <= limit:\n",
    "                return data\n",
    "            else:\n",
    "                split_dict = self.choose_split(data,used_splits, continuous_cap)\n",
    "                if split_dict == None: return None\n",
    "                split = {\"split\" : split_dict[\"split\"], \"value\" : split_dict[\"value\"]}\n",
    "                used_splits.append((split[\"split\"],split[\"value\"]))\n",
    "                left = create_rec(split_dict[\"left\"], depth + 1, used_splits)\n",
    "                right = create_rec(split_dict[\"right\"], depth + 1, used_splits)\n",
    "                return Tree(split, left, right)\n",
    "            \n",
    "        self.raw_tree = create_rec(self.data)\n",
    "        self.pred_tree = self._raw_to_pred(self.raw_tree)\n",
    "\n",
    "    def pred_new(self,to_pred):\n",
    "        def go_down_tree(tree : Tree):\n",
    "            if isinstance(tree,Tree):\n",
    "                split,value = tree.node[\"split\"],tree.node[\"value\"]\n",
    "                cont = self.split_info[split]\n",
    "                \n",
    "                if cont:\n",
    "                    if (to_pred[split] < value).iloc[0]:\n",
    "                        return go_down_tree(tree.left)\n",
    "                    else:\n",
    "                        return go_down_tree(tree.right)\n",
    "                else:\n",
    "                    if (to_pred[split] == value).iloc[0]:\n",
    "                        return go_down_tree(tree.left)\n",
    "                    else:\n",
    "                        return go_down_tree(tree.right)\n",
    "            else:\n",
    "                return tree\n",
    "        return go_down_tree(self.pred_tree)\n",
    "\n",
    "    def tree_acc(self,metric)-> float:\n",
    "        def helper(tree_preds : Tree, tree_raw : Tree):\n",
    "            if isinstance(tree_preds,Tree):\n",
    "                return helper(tree_preds.left,tree_raw.left) + helper(tree_preds.right,tree_raw.right)\n",
    "            else:\n",
    "                if isinstance(tree_raw, pd.DataFrame):\n",
    "                    if tree_raw.empty: return 0\n",
    "                    return metric(tree_raw.iloc[:,-1:],tree_preds).sum()\n",
    "                return 0\n",
    "        return helper(self.pred_tree,self.raw_tree)/len(self.data)"
   ]
  },
  {
   "cell_type": "code",
   "execution_count": 546,
   "id": "c922b7c2-b23d-449b-8447-613509b043cd",
   "metadata": {},
   "outputs": [],
   "source": [
    "class ClassificationTree(DecisionTree):\n",
    "    def __init__(self, dataset : pd.DataFrame, columns : list[int] = None)-> None:\n",
    "        super().__init__(dataset, columns)\n",
    "        \n",
    "    def _pred(self,data : pd.DataFrame):\n",
    "        '''chooses which value appears the most in a given leaf.'''\n",
    "        return data.iloc[:,-1:].value_counts().idxmax()[0]\n",
    "    \n",
    "    def _gini_index(self, proportions : list[int]) -> int:\n",
    "        '''returns gini index of the proportions.'''\n",
    "        return 1 - sum(i**2 for i in proportions)\n",
    "        \n",
    "    def _metric_for_data(self, data : pd.DataFrame)->tuple:\n",
    "        '''returns gini index for the split, with the amount of elements in data for the weighted average. '''\n",
    "        target = data.iloc[:,-1]\n",
    "        dist_value_counts = target.value_counts()\n",
    "        split_count = dist_value_counts.sum()\n",
    "        proportions = [i/split_count for i in dist_value_counts]\n",
    "        gini = self._gini_index(proportions)\n",
    "        return gini,split_count\n",
    "    \n",
    "    def tree_acc(self):\n",
    "        def metric(data,preds):\n",
    "            return data == preds \n",
    "        return super().tree_acc(metric)"
   ]
  },
  {
   "cell_type": "code",
   "execution_count": 548,
   "id": "aaadb824",
   "metadata": {},
   "outputs": [],
   "source": [
    "class RegressionTree(DecisionTree):\n",
    "    def __init__(self, dataset : pd.DataFrame, columns : list[int] = None)-> None:\n",
    "        super().__init__(dataset, columns)\n",
    "        \n",
    "    def _pred(self,data : pd.DataFrame):\n",
    "        '''return the average for the given leaf.'''\n",
    "        return data.iloc[:,-1:].sum()/len(data)\n",
    "    \n",
    "    def _mse(self, values : list[int]) -> int:\n",
    "        '''returns mean squared error .'''\n",
    "        return sum(i**2 for i in values)/len(values)\n",
    "        \n",
    "    def _metric_for_data(self, data : pd.DataFrame)->tuple:\n",
    "        '''returns mse for the split, with the amount of elements in data for the weighted average. '''\n",
    "        target = data.iloc[:,-1]\n",
    "        mean = target.mean()\n",
    "        mse = self._mse(target - mean)\n",
    "        return mse,len(data)\n",
    "    \n",
    "    def tree_acc(self):\n",
    "        def metric(data,pred):\n",
    "            return self._mse(data - pred)\n",
    "        return super().tree_acc(metric)"
   ]
  },
  {
   "cell_type": "code",
   "execution_count": 550,
   "id": "26e4fd7b-3abf-4cd0-9bbf-fe7ffb811423",
   "metadata": {},
   "outputs": [],
   "source": [
    "personality_tree = ClassificationTree(data)"
   ]
  },
  {
   "cell_type": "code",
   "execution_count": 612,
   "id": "b27af84e-cdfa-4f8f-a85b-ae4da49f715d",
   "metadata": {},
   "outputs": [],
   "source": [
    "personality_tree.create_tree(depth_limit = 3)"
   ]
  },
  {
   "cell_type": "code",
   "execution_count": 618,
   "id": "7df62bac-ea7f-4adc-8b87-13315f25d61f",
   "metadata": {},
   "outputs": [
    {
     "data": {
      "text/plain": [
       "\n",
       "            Node : {'split': 'Stage_fear', 'value': 0.0}\n",
       "\n",
       "            Leaf 1 :\n",
       "\t\n",
       "                Node : {'split': 'Post_frequency', 'value': 2.5}\n",
       "\t\n",
       "                Leaf 1 :\n",
       "\n",
       "                Node : {'split': 'Time_spent_Alone', 'value': 4.25290800140994}\n",
       "\t\t\n",
       "                Leaf 1 :\n",
       "\n",
       "                Node : {'split': 'Social_event_attendance', 'value': 1.0}\n",
       "\t\t\t\t\n",
       "                Leaf 1 :\n",
       "0\n",
       "\t\t\t\t\n",
       "                Leaf 2 :\n",
       "0\n",
       "\t\t\n",
       "                Leaf 2 :\n",
       "\n",
       "                Node : {'split': 'Time_spent_Alone', 'value': 4.75290800140994}\n",
       "\t\t\t\t\n",
       "                Leaf 1 :\n",
       "0\n",
       "\t\t\t\t\n",
       "                Leaf 2 :\n",
       "0\n",
       "\t\n",
       "                Leaf 2 :\n",
       "\n",
       "                Node : {'split': 'Friends_circle_size', 'value': 7.5}\n",
       "\t\t\n",
       "                Leaf 1 :\n",
       "\n",
       "                Node : {'split': 'Social_event_attendance', 'value': 4.5}\n",
       "\t\t\t\t\n",
       "                Leaf 1 :\n",
       "1\n",
       "\t\t\t\t\n",
       "                Leaf 2 :\n",
       "1\n",
       "\t\t\n",
       "                Leaf 2 :\n",
       "\n",
       "                Node : {'split': 'Going_outside', 'value': 4.5}\n",
       "\t\t\t\t\n",
       "                Leaf 1 :\n",
       "1\n",
       "\t\t\t\t\n",
       "                Leaf 2 :\n",
       "1\n",
       "\n",
       "            Leaf 2 :\n",
       "\t\n",
       "                Node : {'split': 'Time_spent_Alone', 'value': 6.5}\n",
       "\t\n",
       "                Leaf 1 :\n",
       "\n",
       "                Node : {'split': 'Friends_circle_size', 'value': 0.5}\n",
       "\t\t\n",
       "                Leaf 1 :\n",
       "\n",
       "                Node : {'split': 'Time_spent_Alone', 'value': 4.5}\n",
       "\t\t\t\t\n",
       "                Leaf 1 :\n",
       "0\n",
       "\t\t\t\t\n",
       "                Leaf 2 :\n",
       "0\n",
       "\t\t\n",
       "                Leaf 2 :\n",
       "\n",
       "                Node : {'split': 'Post_frequency', 'value': 1.5}\n",
       "\t\t\t\t\n",
       "                Leaf 1 :\n",
       "0\n",
       "\t\t\t\t\n",
       "                Leaf 2 :\n",
       "0\n",
       "\t\n",
       "                Leaf 2 :\n",
       "\n",
       "                Node : {'split': 'Social_event_attendance', 'value': 2.5}\n",
       "\t\t\n",
       "                Leaf 1 :\n",
       "\n",
       "                Node : {'split': 'Friends_circle_size', 'value': 4.5}\n",
       "\t\t\t\t\n",
       "                Leaf 1 :\n",
       "0\n",
       "\t\t\t\t\n",
       "                Leaf 2 :\n",
       "0\n",
       "\t\t\n",
       "                Leaf 2 :\n",
       "\n",
       "                Node : {'split': 'Friends_circle_size', 'value': 2.5}\n",
       "\t\t\t\t\n",
       "                Leaf 1 :\n",
       "0\n",
       "\t\t\t\t\n",
       "                Leaf 2 :\n",
       "0"
      ]
     },
     "execution_count": 618,
     "metadata": {},
     "output_type": "execute_result"
    }
   ],
   "source": [
    "personality_tree.pred_tree"
   ]
  },
  {
   "cell_type": "code",
   "execution_count": 632,
   "id": "17b80e7e-f7f4-4b7d-bc71-eb05ae77c329",
   "metadata": {},
   "outputs": [],
   "source": [
    "from graphviz import Digraph\n",
    "def visualize_tree(tree, graph=None, parent=None, edge_label=\"\"):\n",
    "    if graph is None:\n",
    "        graph = Digraph()\n",
    "    \n",
    "    node_id = str(id(tree))\n",
    "\n",
    "    if isinstance(tree, dict):\n",
    "        # Jest to node (słownik): np. {\"X > 5\": [lewo, prawo]}\n",
    "        condition = next(iter(tree))\n",
    "        graph.node(node_id, label=condition)\n",
    "\n",
    "        left, right = tree[condition]\n",
    "\n",
    "        # Rekurencja w lewo\n",
    "        left_id = visualize_tree(left, graph, node_id, \"Yes\")\n",
    "        graph.edge(node_id, left_id, label=\"Yes\")\n",
    "\n",
    "        # Rekurencja w prawo\n",
    "        right_id = visualize_tree(right, graph, node_id, \"No\")\n",
    "        graph.edge(node_id, right_id, label=\"No\")\n",
    "        \n",
    "    else:\n",
    "        # Liść drzewa (wartość 0 lub 1)\n",
    "        graph.node(node_id, label=str(tree), shape=\"box\")\n",
    "\n",
    "    return node_id if parent is not None else graph"
   ]
  },
  {
   "cell_type": "code",
   "execution_count": 634,
   "id": "233dd8a4-34e2-4c1c-8a95-272a7a5e343b",
   "metadata": {},
   "outputs": [
    {
     "ename": "ExecutableNotFound",
     "evalue": "failed to execute WindowsPath('dot'), make sure the Graphviz executables are on your systems' PATH",
     "output_type": "error",
     "traceback": [
      "\u001b[1;31m---------------------------------------------------------------------------\u001b[0m",
      "\u001b[1;31mFileNotFoundError\u001b[0m                         Traceback (most recent call last)",
      "File \u001b[1;32m~\\anaconda3\\Lib\\site-packages\\graphviz\\backend\\execute.py:76\u001b[0m, in \u001b[0;36mrun_check\u001b[1;34m(cmd, input_lines, encoding, quiet, **kwargs)\u001b[0m\n\u001b[0;32m     75\u001b[0m         kwargs[\u001b[38;5;124m'\u001b[39m\u001b[38;5;124mstdout\u001b[39m\u001b[38;5;124m'\u001b[39m] \u001b[38;5;241m=\u001b[39m kwargs[\u001b[38;5;124m'\u001b[39m\u001b[38;5;124mstderr\u001b[39m\u001b[38;5;124m'\u001b[39m] \u001b[38;5;241m=\u001b[39m subprocess\u001b[38;5;241m.\u001b[39mPIPE\n\u001b[1;32m---> 76\u001b[0m     proc \u001b[38;5;241m=\u001b[39m _run_input_lines(cmd, input_lines, kwargs\u001b[38;5;241m=\u001b[39mkwargs)\n\u001b[0;32m     77\u001b[0m \u001b[38;5;28;01melse\u001b[39;00m:\n",
      "File \u001b[1;32m~\\anaconda3\\Lib\\site-packages\\graphviz\\backend\\execute.py:96\u001b[0m, in \u001b[0;36m_run_input_lines\u001b[1;34m(cmd, input_lines, kwargs)\u001b[0m\n\u001b[0;32m     95\u001b[0m \u001b[38;5;28;01mdef\u001b[39;00m \u001b[38;5;21m_run_input_lines\u001b[39m(cmd, input_lines, \u001b[38;5;241m*\u001b[39m, kwargs):\n\u001b[1;32m---> 96\u001b[0m     popen \u001b[38;5;241m=\u001b[39m subprocess\u001b[38;5;241m.\u001b[39mPopen(cmd, stdin\u001b[38;5;241m=\u001b[39msubprocess\u001b[38;5;241m.\u001b[39mPIPE, \u001b[38;5;241m*\u001b[39m\u001b[38;5;241m*\u001b[39mkwargs)\n\u001b[0;32m     98\u001b[0m     stdin_write \u001b[38;5;241m=\u001b[39m popen\u001b[38;5;241m.\u001b[39mstdin\u001b[38;5;241m.\u001b[39mwrite\n",
      "File \u001b[1;32m~\\anaconda3\\Lib\\subprocess.py:1026\u001b[0m, in \u001b[0;36mPopen.__init__\u001b[1;34m(self, args, bufsize, executable, stdin, stdout, stderr, preexec_fn, close_fds, shell, cwd, env, universal_newlines, startupinfo, creationflags, restore_signals, start_new_session, pass_fds, user, group, extra_groups, encoding, errors, text, umask, pipesize, process_group)\u001b[0m\n\u001b[0;32m   1023\u001b[0m             \u001b[38;5;28mself\u001b[39m\u001b[38;5;241m.\u001b[39mstderr \u001b[38;5;241m=\u001b[39m io\u001b[38;5;241m.\u001b[39mTextIOWrapper(\u001b[38;5;28mself\u001b[39m\u001b[38;5;241m.\u001b[39mstderr,\n\u001b[0;32m   1024\u001b[0m                     encoding\u001b[38;5;241m=\u001b[39mencoding, errors\u001b[38;5;241m=\u001b[39merrors)\n\u001b[1;32m-> 1026\u001b[0m     \u001b[38;5;28mself\u001b[39m\u001b[38;5;241m.\u001b[39m_execute_child(args, executable, preexec_fn, close_fds,\n\u001b[0;32m   1027\u001b[0m                         pass_fds, cwd, env,\n\u001b[0;32m   1028\u001b[0m                         startupinfo, creationflags, shell,\n\u001b[0;32m   1029\u001b[0m                         p2cread, p2cwrite,\n\u001b[0;32m   1030\u001b[0m                         c2pread, c2pwrite,\n\u001b[0;32m   1031\u001b[0m                         errread, errwrite,\n\u001b[0;32m   1032\u001b[0m                         restore_signals,\n\u001b[0;32m   1033\u001b[0m                         gid, gids, uid, umask,\n\u001b[0;32m   1034\u001b[0m                         start_new_session, process_group)\n\u001b[0;32m   1035\u001b[0m \u001b[38;5;28;01mexcept\u001b[39;00m:\n\u001b[0;32m   1036\u001b[0m     \u001b[38;5;66;03m# Cleanup if the child failed starting.\u001b[39;00m\n",
      "File \u001b[1;32m~\\anaconda3\\Lib\\subprocess.py:1538\u001b[0m, in \u001b[0;36mPopen._execute_child\u001b[1;34m(self, args, executable, preexec_fn, close_fds, pass_fds, cwd, env, startupinfo, creationflags, shell, p2cread, p2cwrite, c2pread, c2pwrite, errread, errwrite, unused_restore_signals, unused_gid, unused_gids, unused_uid, unused_umask, unused_start_new_session, unused_process_group)\u001b[0m\n\u001b[0;32m   1537\u001b[0m \u001b[38;5;28;01mtry\u001b[39;00m:\n\u001b[1;32m-> 1538\u001b[0m     hp, ht, pid, tid \u001b[38;5;241m=\u001b[39m _winapi\u001b[38;5;241m.\u001b[39mCreateProcess(executable, args,\n\u001b[0;32m   1539\u001b[0m                              \u001b[38;5;66;03m# no special security\u001b[39;00m\n\u001b[0;32m   1540\u001b[0m                              \u001b[38;5;28;01mNone\u001b[39;00m, \u001b[38;5;28;01mNone\u001b[39;00m,\n\u001b[0;32m   1541\u001b[0m                              \u001b[38;5;28mint\u001b[39m(\u001b[38;5;129;01mnot\u001b[39;00m close_fds),\n\u001b[0;32m   1542\u001b[0m                              creationflags,\n\u001b[0;32m   1543\u001b[0m                              env,\n\u001b[0;32m   1544\u001b[0m                              cwd,\n\u001b[0;32m   1545\u001b[0m                              startupinfo)\n\u001b[0;32m   1546\u001b[0m \u001b[38;5;28;01mfinally\u001b[39;00m:\n\u001b[0;32m   1547\u001b[0m     \u001b[38;5;66;03m# Child is launched. Close the parent's copy of those pipe\u001b[39;00m\n\u001b[0;32m   1548\u001b[0m     \u001b[38;5;66;03m# handles that only the child should have open.  You need\u001b[39;00m\n\u001b[1;32m   (...)\u001b[0m\n\u001b[0;32m   1551\u001b[0m     \u001b[38;5;66;03m# pipe will not close when the child process exits and the\u001b[39;00m\n\u001b[0;32m   1552\u001b[0m     \u001b[38;5;66;03m# ReadFile will hang.\u001b[39;00m\n",
      "\u001b[1;31mFileNotFoundError\u001b[0m: [WinError 2] Nie można odnaleźć określonego pliku",
      "\nThe above exception was the direct cause of the following exception:\n",
      "\u001b[1;31mExecutableNotFound\u001b[0m                        Traceback (most recent call last)",
      "File \u001b[1;32m~\\anaconda3\\Lib\\site-packages\\IPython\\core\\formatters.py:977\u001b[0m, in \u001b[0;36mMimeBundleFormatter.__call__\u001b[1;34m(self, obj, include, exclude)\u001b[0m\n\u001b[0;32m    974\u001b[0m     method \u001b[38;5;241m=\u001b[39m get_real_method(obj, \u001b[38;5;28mself\u001b[39m\u001b[38;5;241m.\u001b[39mprint_method)\n\u001b[0;32m    976\u001b[0m     \u001b[38;5;28;01mif\u001b[39;00m method \u001b[38;5;129;01mis\u001b[39;00m \u001b[38;5;129;01mnot\u001b[39;00m \u001b[38;5;28;01mNone\u001b[39;00m:\n\u001b[1;32m--> 977\u001b[0m         \u001b[38;5;28;01mreturn\u001b[39;00m method(include\u001b[38;5;241m=\u001b[39minclude, exclude\u001b[38;5;241m=\u001b[39mexclude)\n\u001b[0;32m    978\u001b[0m     \u001b[38;5;28;01mreturn\u001b[39;00m \u001b[38;5;28;01mNone\u001b[39;00m\n\u001b[0;32m    979\u001b[0m \u001b[38;5;28;01melse\u001b[39;00m:\n",
      "File \u001b[1;32m~\\anaconda3\\Lib\\site-packages\\graphviz\\jupyter_integration.py:98\u001b[0m, in \u001b[0;36mJupyterIntegration._repr_mimebundle_\u001b[1;34m(self, include, exclude, **_)\u001b[0m\n\u001b[0;32m     96\u001b[0m include \u001b[38;5;241m=\u001b[39m \u001b[38;5;28mset\u001b[39m(include) \u001b[38;5;28;01mif\u001b[39;00m include \u001b[38;5;129;01mis\u001b[39;00m \u001b[38;5;129;01mnot\u001b[39;00m \u001b[38;5;28;01mNone\u001b[39;00m \u001b[38;5;28;01melse\u001b[39;00m {\u001b[38;5;28mself\u001b[39m\u001b[38;5;241m.\u001b[39m_jupyter_mimetype}\n\u001b[0;32m     97\u001b[0m include \u001b[38;5;241m-\u001b[39m\u001b[38;5;241m=\u001b[39m \u001b[38;5;28mset\u001b[39m(exclude \u001b[38;5;129;01mor\u001b[39;00m [])\n\u001b[1;32m---> 98\u001b[0m \u001b[38;5;28;01mreturn\u001b[39;00m {mimetype: \u001b[38;5;28mgetattr\u001b[39m(\u001b[38;5;28mself\u001b[39m, method_name)()\n\u001b[0;32m     99\u001b[0m         \u001b[38;5;28;01mfor\u001b[39;00m mimetype, method_name \u001b[38;5;129;01min\u001b[39;00m MIME_TYPES\u001b[38;5;241m.\u001b[39mitems()\n\u001b[0;32m    100\u001b[0m         \u001b[38;5;28;01mif\u001b[39;00m mimetype \u001b[38;5;129;01min\u001b[39;00m include}\n",
      "File \u001b[1;32m~\\anaconda3\\Lib\\site-packages\\graphviz\\jupyter_integration.py:112\u001b[0m, in \u001b[0;36mJupyterIntegration._repr_image_svg_xml\u001b[1;34m(self)\u001b[0m\n\u001b[0;32m    110\u001b[0m \u001b[38;5;28;01mdef\u001b[39;00m \u001b[38;5;21m_repr_image_svg_xml\u001b[39m(\u001b[38;5;28mself\u001b[39m) \u001b[38;5;241m-\u001b[39m\u001b[38;5;241m>\u001b[39m \u001b[38;5;28mstr\u001b[39m:\n\u001b[0;32m    111\u001b[0m \u001b[38;5;250m    \u001b[39m\u001b[38;5;124;03m\"\"\"Return the rendered graph as SVG string.\"\"\"\u001b[39;00m\n\u001b[1;32m--> 112\u001b[0m     \u001b[38;5;28;01mreturn\u001b[39;00m \u001b[38;5;28mself\u001b[39m\u001b[38;5;241m.\u001b[39mpipe(\u001b[38;5;28mformat\u001b[39m\u001b[38;5;241m=\u001b[39m\u001b[38;5;124m'\u001b[39m\u001b[38;5;124msvg\u001b[39m\u001b[38;5;124m'\u001b[39m, encoding\u001b[38;5;241m=\u001b[39mSVG_ENCODING)\n",
      "File \u001b[1;32m~\\anaconda3\\Lib\\site-packages\\graphviz\\piping.py:104\u001b[0m, in \u001b[0;36mPipe.pipe\u001b[1;34m(self, format, renderer, formatter, neato_no_op, quiet, engine, encoding)\u001b[0m\n\u001b[0;32m     55\u001b[0m \u001b[38;5;28;01mdef\u001b[39;00m \u001b[38;5;21mpipe\u001b[39m(\u001b[38;5;28mself\u001b[39m,\n\u001b[0;32m     56\u001b[0m          \u001b[38;5;28mformat\u001b[39m: typing\u001b[38;5;241m.\u001b[39mOptional[\u001b[38;5;28mstr\u001b[39m] \u001b[38;5;241m=\u001b[39m \u001b[38;5;28;01mNone\u001b[39;00m,\n\u001b[0;32m     57\u001b[0m          renderer: typing\u001b[38;5;241m.\u001b[39mOptional[\u001b[38;5;28mstr\u001b[39m] \u001b[38;5;241m=\u001b[39m \u001b[38;5;28;01mNone\u001b[39;00m,\n\u001b[1;32m   (...)\u001b[0m\n\u001b[0;32m     61\u001b[0m          engine: typing\u001b[38;5;241m.\u001b[39mOptional[\u001b[38;5;28mstr\u001b[39m] \u001b[38;5;241m=\u001b[39m \u001b[38;5;28;01mNone\u001b[39;00m,\n\u001b[0;32m     62\u001b[0m          encoding: typing\u001b[38;5;241m.\u001b[39mOptional[\u001b[38;5;28mstr\u001b[39m] \u001b[38;5;241m=\u001b[39m \u001b[38;5;28;01mNone\u001b[39;00m) \u001b[38;5;241m-\u001b[39m\u001b[38;5;241m>\u001b[39m typing\u001b[38;5;241m.\u001b[39mUnion[\u001b[38;5;28mbytes\u001b[39m, \u001b[38;5;28mstr\u001b[39m]:\n\u001b[0;32m     63\u001b[0m \u001b[38;5;250m    \u001b[39m\u001b[38;5;124;03m\"\"\"Return the source piped through the Graphviz layout command.\u001b[39;00m\n\u001b[0;32m     64\u001b[0m \n\u001b[0;32m     65\u001b[0m \u001b[38;5;124;03m    Args:\u001b[39;00m\n\u001b[1;32m   (...)\u001b[0m\n\u001b[0;32m    102\u001b[0m \u001b[38;5;124;03m        '<?xml version='\u001b[39;00m\n\u001b[0;32m    103\u001b[0m \u001b[38;5;124;03m    \"\"\"\u001b[39;00m\n\u001b[1;32m--> 104\u001b[0m     \u001b[38;5;28;01mreturn\u001b[39;00m \u001b[38;5;28mself\u001b[39m\u001b[38;5;241m.\u001b[39m_pipe_legacy(\u001b[38;5;28mformat\u001b[39m,\n\u001b[0;32m    105\u001b[0m                              renderer\u001b[38;5;241m=\u001b[39mrenderer,\n\u001b[0;32m    106\u001b[0m                              formatter\u001b[38;5;241m=\u001b[39mformatter,\n\u001b[0;32m    107\u001b[0m                              neato_no_op\u001b[38;5;241m=\u001b[39mneato_no_op,\n\u001b[0;32m    108\u001b[0m                              quiet\u001b[38;5;241m=\u001b[39mquiet,\n\u001b[0;32m    109\u001b[0m                              engine\u001b[38;5;241m=\u001b[39mengine,\n\u001b[0;32m    110\u001b[0m                              encoding\u001b[38;5;241m=\u001b[39mencoding)\n",
      "File \u001b[1;32m~\\anaconda3\\Lib\\site-packages\\graphviz\\_tools.py:185\u001b[0m, in \u001b[0;36mdeprecate_positional_args.<locals>.decorator.<locals>.wrapper\u001b[1;34m(*args, **kwargs)\u001b[0m\n\u001b[0;32m    177\u001b[0m     wanted \u001b[38;5;241m=\u001b[39m \u001b[38;5;124m'\u001b[39m\u001b[38;5;124m, \u001b[39m\u001b[38;5;124m'\u001b[39m\u001b[38;5;241m.\u001b[39mjoin(\u001b[38;5;124mf\u001b[39m\u001b[38;5;124m'\u001b[39m\u001b[38;5;132;01m{\u001b[39;00mname\u001b[38;5;132;01m}\u001b[39;00m\u001b[38;5;124m=\u001b[39m\u001b[38;5;132;01m{\u001b[39;00mvalue\u001b[38;5;132;01m!r}\u001b[39;00m\u001b[38;5;124m'\u001b[39m\n\u001b[0;32m    178\u001b[0m                        \u001b[38;5;28;01mfor\u001b[39;00m name, value \u001b[38;5;129;01min\u001b[39;00m deprecated\u001b[38;5;241m.\u001b[39mitems())\n\u001b[0;32m    179\u001b[0m     warnings\u001b[38;5;241m.\u001b[39mwarn(\u001b[38;5;124mf\u001b[39m\u001b[38;5;124m'\u001b[39m\u001b[38;5;124mThe signature of \u001b[39m\u001b[38;5;132;01m{\u001b[39;00mfunc_name\u001b[38;5;132;01m}\u001b[39;00m\u001b[38;5;124m will be reduced\u001b[39m\u001b[38;5;124m'\u001b[39m\n\u001b[0;32m    180\u001b[0m                   \u001b[38;5;124mf\u001b[39m\u001b[38;5;124m'\u001b[39m\u001b[38;5;124m to \u001b[39m\u001b[38;5;132;01m{\u001b[39;00msupported_number\u001b[38;5;132;01m}\u001b[39;00m\u001b[38;5;124m positional arg\u001b[39m\u001b[38;5;132;01m{\u001b[39;00ms_\u001b[38;5;132;01m}\u001b[39;00m\u001b[38;5;132;01m{\u001b[39;00mqualification\u001b[38;5;132;01m}\u001b[39;00m\u001b[38;5;124m'\u001b[39m\n\u001b[0;32m    181\u001b[0m                   \u001b[38;5;124mf\u001b[39m\u001b[38;5;124m'\u001b[39m\u001b[38;5;124m \u001b[39m\u001b[38;5;132;01m{\u001b[39;00m\u001b[38;5;28mlist\u001b[39m(supported)\u001b[38;5;132;01m}\u001b[39;00m\u001b[38;5;124m: pass \u001b[39m\u001b[38;5;132;01m{\u001b[39;00mwanted\u001b[38;5;132;01m}\u001b[39;00m\u001b[38;5;124m as keyword arg\u001b[39m\u001b[38;5;132;01m{\u001b[39;00ms_\u001b[38;5;132;01m}\u001b[39;00m\u001b[38;5;124m'\u001b[39m,\n\u001b[0;32m    182\u001b[0m                   stacklevel\u001b[38;5;241m=\u001b[39mstacklevel,\n\u001b[0;32m    183\u001b[0m                   category\u001b[38;5;241m=\u001b[39mcategory)\n\u001b[1;32m--> 185\u001b[0m \u001b[38;5;28;01mreturn\u001b[39;00m func(\u001b[38;5;241m*\u001b[39margs, \u001b[38;5;241m*\u001b[39m\u001b[38;5;241m*\u001b[39mkwargs)\n",
      "File \u001b[1;32m~\\anaconda3\\Lib\\site-packages\\graphviz\\piping.py:121\u001b[0m, in \u001b[0;36mPipe._pipe_legacy\u001b[1;34m(self, format, renderer, formatter, neato_no_op, quiet, engine, encoding)\u001b[0m\n\u001b[0;32m    112\u001b[0m \u001b[38;5;129m@_tools\u001b[39m\u001b[38;5;241m.\u001b[39mdeprecate_positional_args(supported_number\u001b[38;5;241m=\u001b[39m\u001b[38;5;241m1\u001b[39m, ignore_arg\u001b[38;5;241m=\u001b[39m\u001b[38;5;124m'\u001b[39m\u001b[38;5;124mself\u001b[39m\u001b[38;5;124m'\u001b[39m)\n\u001b[0;32m    113\u001b[0m \u001b[38;5;28;01mdef\u001b[39;00m \u001b[38;5;21m_pipe_legacy\u001b[39m(\u001b[38;5;28mself\u001b[39m,\n\u001b[0;32m    114\u001b[0m                  \u001b[38;5;28mformat\u001b[39m: typing\u001b[38;5;241m.\u001b[39mOptional[\u001b[38;5;28mstr\u001b[39m] \u001b[38;5;241m=\u001b[39m \u001b[38;5;28;01mNone\u001b[39;00m,\n\u001b[1;32m   (...)\u001b[0m\n\u001b[0;32m    119\u001b[0m                  engine: typing\u001b[38;5;241m.\u001b[39mOptional[\u001b[38;5;28mstr\u001b[39m] \u001b[38;5;241m=\u001b[39m \u001b[38;5;28;01mNone\u001b[39;00m,\n\u001b[0;32m    120\u001b[0m                  encoding: typing\u001b[38;5;241m.\u001b[39mOptional[\u001b[38;5;28mstr\u001b[39m] \u001b[38;5;241m=\u001b[39m \u001b[38;5;28;01mNone\u001b[39;00m) \u001b[38;5;241m-\u001b[39m\u001b[38;5;241m>\u001b[39m typing\u001b[38;5;241m.\u001b[39mUnion[\u001b[38;5;28mbytes\u001b[39m, \u001b[38;5;28mstr\u001b[39m]:\n\u001b[1;32m--> 121\u001b[0m     \u001b[38;5;28;01mreturn\u001b[39;00m \u001b[38;5;28mself\u001b[39m\u001b[38;5;241m.\u001b[39m_pipe_future(\u001b[38;5;28mformat\u001b[39m,\n\u001b[0;32m    122\u001b[0m                              renderer\u001b[38;5;241m=\u001b[39mrenderer,\n\u001b[0;32m    123\u001b[0m                              formatter\u001b[38;5;241m=\u001b[39mformatter,\n\u001b[0;32m    124\u001b[0m                              neato_no_op\u001b[38;5;241m=\u001b[39mneato_no_op,\n\u001b[0;32m    125\u001b[0m                              quiet\u001b[38;5;241m=\u001b[39mquiet,\n\u001b[0;32m    126\u001b[0m                              engine\u001b[38;5;241m=\u001b[39mengine,\n\u001b[0;32m    127\u001b[0m                              encoding\u001b[38;5;241m=\u001b[39mencoding)\n",
      "File \u001b[1;32m~\\anaconda3\\Lib\\site-packages\\graphviz\\piping.py:149\u001b[0m, in \u001b[0;36mPipe._pipe_future\u001b[1;34m(self, format, renderer, formatter, neato_no_op, quiet, engine, encoding)\u001b[0m\n\u001b[0;32m    146\u001b[0m \u001b[38;5;28;01mif\u001b[39;00m encoding \u001b[38;5;129;01mis\u001b[39;00m \u001b[38;5;129;01mnot\u001b[39;00m \u001b[38;5;28;01mNone\u001b[39;00m:\n\u001b[0;32m    147\u001b[0m     \u001b[38;5;28;01mif\u001b[39;00m codecs\u001b[38;5;241m.\u001b[39mlookup(encoding) \u001b[38;5;129;01mis\u001b[39;00m codecs\u001b[38;5;241m.\u001b[39mlookup(\u001b[38;5;28mself\u001b[39m\u001b[38;5;241m.\u001b[39mencoding):\n\u001b[0;32m    148\u001b[0m         \u001b[38;5;66;03m# common case: both stdin and stdout need the same encoding\u001b[39;00m\n\u001b[1;32m--> 149\u001b[0m         \u001b[38;5;28;01mreturn\u001b[39;00m \u001b[38;5;28mself\u001b[39m\u001b[38;5;241m.\u001b[39m_pipe_lines_string(\u001b[38;5;241m*\u001b[39margs, encoding\u001b[38;5;241m=\u001b[39mencoding, \u001b[38;5;241m*\u001b[39m\u001b[38;5;241m*\u001b[39mkwargs)\n\u001b[0;32m    150\u001b[0m     \u001b[38;5;28;01mtry\u001b[39;00m:\n\u001b[0;32m    151\u001b[0m         raw \u001b[38;5;241m=\u001b[39m \u001b[38;5;28mself\u001b[39m\u001b[38;5;241m.\u001b[39m_pipe_lines(\u001b[38;5;241m*\u001b[39margs, input_encoding\u001b[38;5;241m=\u001b[39m\u001b[38;5;28mself\u001b[39m\u001b[38;5;241m.\u001b[39mencoding, \u001b[38;5;241m*\u001b[39m\u001b[38;5;241m*\u001b[39mkwargs)\n",
      "File \u001b[1;32m~\\anaconda3\\Lib\\site-packages\\graphviz\\backend\\piping.py:212\u001b[0m, in \u001b[0;36mpipe_lines_string\u001b[1;34m(engine, format, input_lines, encoding, renderer, formatter, neato_no_op, quiet)\u001b[0m\n\u001b[0;32m    206\u001b[0m cmd \u001b[38;5;241m=\u001b[39m dot_command\u001b[38;5;241m.\u001b[39mcommand(engine, \u001b[38;5;28mformat\u001b[39m,\n\u001b[0;32m    207\u001b[0m                           renderer\u001b[38;5;241m=\u001b[39mrenderer,\n\u001b[0;32m    208\u001b[0m                           formatter\u001b[38;5;241m=\u001b[39mformatter,\n\u001b[0;32m    209\u001b[0m                           neato_no_op\u001b[38;5;241m=\u001b[39mneato_no_op)\n\u001b[0;32m    210\u001b[0m kwargs \u001b[38;5;241m=\u001b[39m {\u001b[38;5;124m'\u001b[39m\u001b[38;5;124minput_lines\u001b[39m\u001b[38;5;124m'\u001b[39m: input_lines, \u001b[38;5;124m'\u001b[39m\u001b[38;5;124mencoding\u001b[39m\u001b[38;5;124m'\u001b[39m: encoding}\n\u001b[1;32m--> 212\u001b[0m proc \u001b[38;5;241m=\u001b[39m execute\u001b[38;5;241m.\u001b[39mrun_check(cmd, capture_output\u001b[38;5;241m=\u001b[39m\u001b[38;5;28;01mTrue\u001b[39;00m, quiet\u001b[38;5;241m=\u001b[39mquiet, \u001b[38;5;241m*\u001b[39m\u001b[38;5;241m*\u001b[39mkwargs)\n\u001b[0;32m    213\u001b[0m \u001b[38;5;28;01mreturn\u001b[39;00m proc\u001b[38;5;241m.\u001b[39mstdout\n",
      "File \u001b[1;32m~\\anaconda3\\Lib\\site-packages\\graphviz\\backend\\execute.py:81\u001b[0m, in \u001b[0;36mrun_check\u001b[1;34m(cmd, input_lines, encoding, quiet, **kwargs)\u001b[0m\n\u001b[0;32m     79\u001b[0m \u001b[38;5;28;01mexcept\u001b[39;00m \u001b[38;5;167;01mOSError\u001b[39;00m \u001b[38;5;28;01mas\u001b[39;00m e:\n\u001b[0;32m     80\u001b[0m     \u001b[38;5;28;01mif\u001b[39;00m e\u001b[38;5;241m.\u001b[39merrno \u001b[38;5;241m==\u001b[39m errno\u001b[38;5;241m.\u001b[39mENOENT:\n\u001b[1;32m---> 81\u001b[0m         \u001b[38;5;28;01mraise\u001b[39;00m ExecutableNotFound(cmd) \u001b[38;5;28;01mfrom\u001b[39;00m \u001b[38;5;21;01me\u001b[39;00m\n\u001b[0;32m     82\u001b[0m     \u001b[38;5;28;01mraise\u001b[39;00m\n\u001b[0;32m     84\u001b[0m \u001b[38;5;28;01mif\u001b[39;00m \u001b[38;5;129;01mnot\u001b[39;00m quiet \u001b[38;5;129;01mand\u001b[39;00m proc\u001b[38;5;241m.\u001b[39mstderr:\n",
      "\u001b[1;31mExecutableNotFound\u001b[0m: failed to execute WindowsPath('dot'), make sure the Graphviz executables are on your systems' PATH"
     ]
    },
    {
     "data": {
      "text/plain": [
       "<graphviz.graphs.Digraph at 0x2965dfc58e0>"
      ]
     },
     "execution_count": 634,
     "metadata": {},
     "output_type": "execute_result"
    }
   ],
   "source": [
    "tree = {\n",
    "    \"X > 5\": [\n",
    "        {\"Y < 3\": [\n",
    "            0,\n",
    "            1\n",
    "        ]},\n",
    "        1\n",
    "    ]\n",
    "}\n",
    "visualize_tree(tree)"
   ]
  },
  {
   "cell_type": "code",
   "execution_count": 616,
   "id": "79ba1f79-b7b5-409a-8751-20a1b9d9f1e5",
   "metadata": {},
   "outputs": [
    {
     "data": {
      "text/plain": [
       "Personality    0.934483\n",
       "dtype: float64"
      ]
     },
     "execution_count": 616,
     "metadata": {},
     "output_type": "execute_result"
    }
   ],
   "source": [
    "personality_tree.tree_acc()"
   ]
  },
  {
   "cell_type": "code",
   "execution_count": 394,
   "id": "48d65949",
   "metadata": {},
   "outputs": [],
   "source": [
    "# tree2 = ClassificationTree(test2)"
   ]
  },
  {
   "cell_type": "code",
   "execution_count": 396,
   "id": "9b1adb61",
   "metadata": {},
   "outputs": [],
   "source": [
    "# tree2.create_tree(depth_limit= 2,limit = 1)"
   ]
  },
  {
   "cell_type": "code",
   "execution_count": 398,
   "id": "4d0fa23d",
   "metadata": {},
   "outputs": [],
   "source": [
    "# print(tree2.raw_tree)\n",
    "# print(tree2.pred_tree)"
   ]
  },
  {
   "cell_type": "code",
   "execution_count": 400,
   "id": "0cc3e190-99b3-445c-bcea-177615c53b12",
   "metadata": {},
   "outputs": [],
   "source": [
    "new_val = {\"age\" : [32], \n",
    "           \"owns_house\" : [1],\n",
    "          \"married\" : [0],\n",
    "          }\n",
    "to_guess = pd.DataFrame.from_dict(new_val)\n",
    "# print(to_guess)\n",
    "# print(test2)"
   ]
  },
  {
   "cell_type": "code",
   "execution_count": 402,
   "id": "a15fbda6-2e88-40f8-90bc-8fbc7f07ef65",
   "metadata": {},
   "outputs": [],
   "source": [
    "# tree2.pred_new(to_guess)"
   ]
  },
  {
   "cell_type": "code",
   "execution_count": 404,
   "id": "321fdfb5-9957-4138-9222-f42e097a4d4f",
   "metadata": {},
   "outputs": [],
   "source": [
    "# to_guess[\"purchased\"] = tree2.pred_new(to_guess)"
   ]
  },
  {
   "cell_type": "code",
   "execution_count": 406,
   "id": "1dc5c36e-aa49-43ee-a817-1ffe865d5d3d",
   "metadata": {},
   "outputs": [],
   "source": [
    "# print(tree2.raw_tree)"
   ]
  },
  {
   "cell_type": "code",
   "execution_count": 408,
   "id": "f7d35cd7-078a-47ac-8d85-5c56cca9186d",
   "metadata": {},
   "outputs": [],
   "source": [
    "# print(tree2.tree_acc())"
   ]
  },
  {
   "cell_type": "code",
   "execution_count": null,
   "id": "262af5b7-cb76-4524-8888-1df1acce2f46",
   "metadata": {},
   "outputs": [],
   "source": []
  }
 ],
 "metadata": {
  "kernelspec": {
   "display_name": "Python 3 (ipykernel)",
   "language": "python",
   "name": "python3"
  },
  "language_info": {
   "codemirror_mode": {
    "name": "ipython",
    "version": 3
   },
   "file_extension": ".py",
   "mimetype": "text/x-python",
   "name": "python",
   "nbconvert_exporter": "python",
   "pygments_lexer": "ipython3",
   "version": "3.12.4"
  }
 },
 "nbformat": 4,
 "nbformat_minor": 5
}
